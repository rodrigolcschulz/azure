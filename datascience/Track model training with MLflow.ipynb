{
  "cells": [
    {
      "attachments": {},
      "cell_type": "markdown",
      "source": [
        "# Track model training in notebooks with MLflow\n",
        "\n",
        "You can use MLflow in a notebook to track any models you train. As you'll run this notebook with an Azure Machine Learning compute instance, you don't need to set up MLflow: it's already installed and integrated. \n",
        "\n",
        "You'll prepare some data and train a model to predict diabetes. You'll use autologging, and custom logging to explore how you can use MLflow in notebooks.\n",
        "\n",
        "## Before you start\n",
        "\n",
        "You'll need the latest version of the **azure-ai-ml** package to run the code in this notebook. Run the cell below to verify that it is installed.\n",
        "\n",
        "> **Note**:\n",
        "> If the **azure-ai-ml** package is not installed, run `pip install azure-ai-ml` to install it."
      ],
      "metadata": {}
    },
    {
      "cell_type": "code",
      "source": [
        "pip show azure-ai-ml"
      ],
      "outputs": [
        {
          "output_type": "stream",
          "name": "stdout",
          "text": "Name: azure-ai-ml\r\nVersion: 1.23.1\r\nSummary: Microsoft Azure Machine Learning Client Library for Python\r\nHome-page: https://github.com/Azure/azure-sdk-for-python\r\nAuthor: Microsoft Corporation\r\nAuthor-email: azuresdkengsysadmins@microsoft.com\r\nLicense: MIT License\r\nLocation: /anaconda/envs/azureml_py38/lib/python3.10/site-packages\r\nRequires: azure-common, azure-core, azure-mgmt-core, azure-storage-blob, azure-storage-file-datalake, azure-storage-file-share, colorama, isodate, jsonschema, marshmallow, msrest, opencensus-ext-azure, opencensus-ext-logging, pydash, pyjwt, pyyaml, strictyaml, tqdm, typing-extensions\r\nRequired-by: \r\nNote: you may need to restart the kernel to use updated packages.\n"
        }
      ],
      "execution_count": 5,
      "metadata": {
        "jupyter": {
          "outputs_hidden": false,
          "source_hidden": false
        },
        "nteract": {
          "transient": {
            "deleting": false
          }
        },
        "vscode": {
          "languageId": "python"
        },
        "gather": {
          "logged": 1736975891697
        }
      }
    },
    {
      "attachments": {},
      "cell_type": "markdown",
      "source": [
        "## Connect to your workspace\n",
        "\n",
        "With the required SDK packages installed, now you're ready to connect to your workspace.\n",
        "\n",
        "To connect to a workspace, we need identifier parameters - a subscription ID, resource group name, and workspace name. Since you're working with a compute instance, managed by Azure Machine Learning, you can use the default values to connect to the workspace."
      ],
      "metadata": {}
    },
    {
      "cell_type": "code",
      "source": [
        "from azure.identity import DefaultAzureCredential, InteractiveBrowserCredential\n",
        "from azure.ai.ml import MLClient\n",
        "\n",
        "try:\n",
        "    credential = DefaultAzureCredential()\n",
        "    # Check if given credential can get token successfully.\n",
        "    credential.get_token(\"https://management.azure.com/.default\")\n",
        "except Exception as ex:\n",
        "    # Fall back to InteractiveBrowserCredential in case DefaultAzureCredential not work\n",
        "    credential = InteractiveBrowserCredential()"
      ],
      "outputs": [],
      "execution_count": 6,
      "metadata": {
        "gather": {
          "logged": 1736975893538
        },
        "jupyter": {
          "outputs_hidden": false,
          "source_hidden": false
        },
        "nteract": {
          "transient": {
            "deleting": false
          }
        },
        "vscode": {
          "languageId": "python"
        }
      }
    },
    {
      "cell_type": "code",
      "source": [
        "# Get a handle to workspace\n",
        "ml_client = MLClient.from_config(credential=credential)"
      ],
      "outputs": [
        {
          "output_type": "stream",
          "name": "stderr",
          "text": "Found the config file in: /config.json\n"
        }
      ],
      "execution_count": 7,
      "metadata": {
        "vscode": {
          "languageId": "python"
        },
        "gather": {
          "logged": 1736975895120
        }
      }
    },
    {
      "attachments": {},
      "cell_type": "markdown",
      "source": [
        "## Configure MLflow\n",
        "\n",
        "As you're running this notebook on a compute instance in the Azure Machine Learning studio, you don't need to configure MLflow. \n",
        "\n",
        "Still, it's good to verify that the necessary library is indeed installed.\n",
        "\n",
        "> **Note**:\n",
        "> If the **mlflow** library is not installed, run `pip install mlflow` to install it."
      ],
      "metadata": {}
    },
    {
      "cell_type": "code",
      "source": [
        "pip show mlflow"
      ],
      "outputs": [
        {
          "output_type": "stream",
          "name": "stdout",
          "text": "Name: mlflow\r\nVersion: 2.19.0\r\nSummary: MLflow is an open source platform for the complete machine learning lifecycle\r\nHome-page: \r\nAuthor: \r\nAuthor-email: \r\nLicense: Copyright 2018 Databricks, Inc.  All rights reserved.\r\n        \r\n                                        Apache License\r\n                                   Version 2.0, January 2004\r\n                                http://www.apache.org/licenses/\r\n        \r\n           TERMS AND CONDITIONS FOR USE, REPRODUCTION, AND DISTRIBUTION\r\n        \r\n           1. Definitions.\r\n        \r\n              \"License\" shall mean the terms and conditions for use, reproduction,\r\n              and distribution as defined by Sections 1 through 9 of this document.\r\n        \r\n              \"Licensor\" shall mean the copyright owner or entity authorized by\r\n              the copyright owner that is granting the License.\r\n        \r\n              \"Legal Entity\" shall mean the union of the acting entity and all\r\n              other entities that control, are controlled by, or are under common\r\n              control with that entity. For the purposes of this definition,\r\n              \"control\" means (i) the power, direct or indirect, to cause the\r\n              direction or management of such entity, whether by contract or\r\n              otherwise, or (ii) ownership of fifty percent (50%) or more of the\r\n              outstanding shares, or (iii) beneficial ownership of such entity.\r\n        \r\n              \"You\" (or \"Your\") shall mean an individual or Legal Entity\r\n              exercising permissions granted by this License.\r\n        \r\n              \"Source\" form shall mean the preferred form for making modifications,\r\n              including but not limited to software source code, documentation\r\n              source, and configuration files.\r\n        \r\n              \"Object\" form shall mean any form resulting from mechanical\r\n              transformation or translation of a Source form, including but\r\n              not limited to compiled object code, generated documentation,\r\n              and conversions to other media types.\r\n        \r\n              \"Work\" shall mean the work of authorship, whether in Source or\r\n              Object form, made available under the License, as indicated by a\r\n              copyright notice that is included in or attached to the work\r\n              (an example is provided in the Appendix below).\r\n        \r\n              \"Derivative Works\" shall mean any work, whether in Source or Object\r\n              form, that is based on (or derived from) the Work and for which the\r\n              editorial revisions, annotations, elaborations, or other modifications\r\n              represent, as a whole, an original work of authorship. For the purposes\r\n              of this License, Derivative Works shall not include works that remain\r\n              separable from, or merely link (or bind by name) to the interfaces of,\r\n              the Work and Derivative Works thereof.\r\n        \r\n              \"Contribution\" shall mean any work of authorship, including\r\n              the original version of the Work and any modifications or additions\r\n              to that Work or Derivative Works thereof, that is intentionally\r\n              submitted to Licensor for inclusion in the Work by the copyright owner\r\n              or by an individual or Legal Entity authorized to submit on behalf of\r\n              the copyright owner. For the purposes of this definition, \"submitted\"\r\n              means any form of electronic, verbal, or written communication sent\r\n              to the Licensor or its representatives, including but not limited to\r\n              communication on electronic mailing lists, source code control systems,\r\n              and issue tracking systems that are managed by, or on behalf of, the\r\n              Licensor for the purpose of discussing and improving the Work, but\r\n              excluding communication that is conspicuously marked or otherwise\r\n              designated in writing by the copyright owner as \"Not a Contribution.\"\r\n        \r\n              \"Contributor\" shall mean Licensor and any individual or Legal Entity\r\n              on behalf of whom a Contribution has been received by Licensor and\r\n              subsequently incorporated within the Work.\r\n        \r\n           2. Grant of Copyright License. Subject to the terms and conditions of\r\n              this License, each Contributor hereby grants to You a perpetual,\r\n              worldwide, non-exclusive, no-charge, royalty-free, irrevocable\r\n              copyright license to reproduce, prepare Derivative Works of,\r\n              publicly display, publicly perform, sublicense, and distribute the\r\n              Work and such Derivative Works in Source or Object form.\r\n        \r\n           3. Grant of Patent License. Subject to the terms and conditions of\r\n              this License, each Contributor hereby grants to You a perpetual,\r\n              worldwide, non-exclusive, no-charge, royalty-free, irrevocable\r\n              (except as stated in this section) patent license to make, have made,\r\n              use, offer to sell, sell, import, and otherwise transfer the Work,\r\n              where such license applies only to those patent claims licensable\r\n              by such Contributor that are necessarily infringed by their\r\n              Contribution(s) alone or by combination of their Contribution(s)\r\n              with the Work to which such Contribution(s) was submitted. If You\r\n              institute patent litigation against any entity (including a\r\n              cross-claim or counterclaim in a lawsuit) alleging that the Work\r\n              or a Contribution incorporated within the Work constitutes direct\r\n              or contributory patent infringement, then any patent licenses\r\n              granted to You under this License for that Work shall terminate\r\n              as of the date such litigation is filed.\r\n        \r\n           4. Redistribution. You may reproduce and distribute copies of the\r\n              Work or Derivative Works thereof in any medium, with or without\r\n              modifications, and in Source or Object form, provided that You\r\n              meet the following conditions:\r\n        \r\n              (a) You must give any other recipients of the Work or\r\n                  Derivative Works a copy of this License; and\r\n        \r\n              (b) You must cause any modified files to carry prominent notices\r\n                  stating that You changed the files; and\r\n        \r\n              (c) You must retain, in the Source form of any Derivative Works\r\n                  that You distribute, all copyright, patent, trademark, and\r\n                  attribution notices from the Source form of the Work,\r\n                  excluding those notices that do not pertain to any part of\r\n                  the Derivative Works; and\r\n        \r\n              (d) If the Work includes a \"NOTICE\" text file as part of its\r\n                  distribution, then any Derivative Works that You distribute must\r\n                  include a readable copy of the attribution notices contained\r\n                  within such NOTICE file, excluding those notices that do not\r\n                  pertain to any part of the Derivative Works, in at least one\r\n                  of the following places: within a NOTICE text file distributed\r\n                  as part of the Derivative Works; within the Source form or\r\n                  documentation, if provided along with the Derivative Works; or,\r\n                  within a display generated by the Derivative Works, if and\r\n                  wherever such third-party notices normally appear. The contents\r\n                  of the NOTICE file are for informational purposes only and\r\n                  do not modify the License. You may add Your own attribution\r\n                  notices within Derivative Works that You distribute, alongside\r\n                  or as an addendum to the NOTICE text from the Work, provided\r\n                  that such additional attribution notices cannot be construed\r\n                  as modifying the License.\r\n        \r\n              You may add Your own copyright statement to Your modifications and\r\n              may provide additional or different license terms and conditions\r\n              for use, reproduction, or distribution of Your modifications, or\r\n              for any such Derivative Works as a whole, provided Your use,\r\n              reproduction, and distribution of the Work otherwise complies with\r\n              the conditions stated in this License.\r\n        \r\n           5. Submission of Contributions. Unless You explicitly state otherwise,\r\n              any Contribution intentionally submitted for inclusion in the Work\r\n              by You to the Licensor shall be under the terms and conditions of\r\n              this License, without any additional terms or conditions.\r\n              Notwithstanding the above, nothing herein shall supersede or modify\r\n              the terms of any separate license agreement you may have executed\r\n              with Licensor regarding such Contributions.\r\n        \r\n           6. Trademarks. This License does not grant permission to use the trade\r\n              names, trademarks, service marks, or product names of the Licensor,\r\n              except as required for reasonable and customary use in describing the\r\n              origin of the Work and reproducing the content of the NOTICE file.\r\n        \r\n           7. Disclaimer of Warranty. Unless required by applicable law or\r\n              agreed to in writing, Licensor provides the Work (and each\r\n              Contributor provides its Contributions) on an \"AS IS\" BASIS,\r\n              WITHOUT WARRANTIES OR CONDITIONS OF ANY KIND, either express or\r\n              implied, including, without limitation, any warranties or conditions\r\n              of TITLE, NON-INFRINGEMENT, MERCHANTABILITY, or FITNESS FOR A\r\n              PARTICULAR PURPOSE. You are solely responsible for determining the\r\n              appropriateness of using or redistributing the Work and assume any\r\n              risks associated with Your exercise of permissions under this License.\r\n        \r\n           8. Limitation of Liability. In no event and under no legal theory,\r\n              whether in tort (including negligence), contract, or otherwise,\r\n              unless required by applicable law (such as deliberate and grossly\r\n              negligent acts) or agreed to in writing, shall any Contributor be\r\n              liable to You for damages, including any direct, indirect, special,\r\n              incidental, or consequential damages of any character arising as a\r\n              result of this License or out of the use or inability to use the\r\n              Work (including but not limited to damages for loss of goodwill,\r\n              work stoppage, computer failure or malfunction, or any and all\r\n              other commercial damages or losses), even if such Contributor\r\n              has been advised of the possibility of such damages.\r\n        \r\n           9. Accepting Warranty or Additional Liability. While redistributing\r\n              the Work or Derivative Works thereof, You may choose to offer,\r\n              and charge a fee for, acceptance of support, warranty, indemnity,\r\n              or other liability obligations and/or rights consistent with this\r\n              License. However, in accepting such obligations, You may act only\r\n              on Your own behalf and on Your sole responsibility, not on behalf\r\n              of any other Contributor, and only if You agree to indemnify,\r\n              defend, and hold each Contributor harmless for any liability\r\n              incurred by, or claims asserted against, such Contributor by reason\r\n              of your accepting any such warranty or additional liability.\r\n        \r\n           END OF TERMS AND CONDITIONS\r\n           APPENDIX: How to apply the Apache License to your work.\r\n        \r\n              To apply the Apache License to your work, attach the following\r\n              boilerplate notice, with the fields enclosed by brackets \"[]\"\r\n              replaced with your own identifying information. (Don't include\r\n              the brackets!)  The text should be enclosed in the appropriate\r\n              comment syntax for the file format. We also recommend that a\r\n              file or class name and description of purpose be included on the\r\n              same \"printed page\" as the copyright notice for easier\r\n              identification within third-party archives.\r\n        \r\n           Copyright [yyyy] [name of copyright owner]\r\n        \r\n           Licensed under the Apache License, Version 2.0 (the \"License\");\r\n           you may not use this file except in compliance with the License.\r\n           You may obtain a copy of the License at\r\n        \r\n               http://www.apache.org/licenses/LICENSE-2.0\r\n        \r\n           Unless required by applicable law or agreed to in writing, software\r\n           distributed under the License is distributed on an \"AS IS\" BASIS,\r\n           WITHOUT WARRANTIES OR CONDITIONS OF ANY KIND, either express or implied.\r\n           See the License for the specific language governing permissions and\r\n           limitations under the License.\r\n        \r\nLocation: /anaconda/envs/azureml_py38/lib/python3.10/site-packages\r\nRequires: alembic, docker, Flask, graphene, gunicorn, Jinja2, markdown, matplotlib, mlflow-skinny, numpy, pandas, pyarrow, scikit-learn, scipy, sqlalchemy\r\nRequired-by: \r\nNote: you may need to restart the kernel to use updated packages.\n"
        }
      ],
      "execution_count": 8,
      "metadata": {
        "gather": {
          "logged": 1736975901737
        },
        "jupyter": {
          "outputs_hidden": false,
          "source_hidden": false
        },
        "nteract": {
          "transient": {
            "deleting": false
          }
        },
        "vscode": {
          "languageId": "python"
        }
      }
    },
    {
      "attachments": {},
      "cell_type": "markdown",
      "source": [
        "## Prepare the data\n",
        "\n",
        "You'll train a diabetes classification model. The training data is stored in the **data** folder as **diabetes.csv**. \n",
        "\n",
        "First, let's read the data:"
      ],
      "metadata": {}
    },
    {
      "cell_type": "code",
      "source": [
        "import pandas as pd\n",
        "\n",
        "print(\"Reading data...\")\n",
        "df = pd.read_csv('./data/diabetes.csv')\n",
        "df.head()"
      ],
      "outputs": [
        {
          "output_type": "stream",
          "name": "stdout",
          "text": "Reading data...\n"
        },
        {
          "output_type": "execute_result",
          "execution_count": 9,
          "data": {
            "text/plain": "   PatientID  Pregnancies  PlasmaGlucose  DiastolicBloodPressure  \\\n0    1354778            0            171                      80   \n1    1147438            8             92                      93   \n2    1640031            7            115                      47   \n3    1883350            9            103                      78   \n4    1424119            1             85                      59   \n\n   TricepsThickness  SerumInsulin        BMI  DiabetesPedigree  Age  Diabetic  \n0                34            23  43.509726          1.213191   21         0  \n1                47            36  21.240576          0.158365   23         0  \n2                52            35  41.511523          0.079019   23         0  \n3                25           304  29.582192          1.282870   43         1  \n4                27            35  42.604536          0.549542   22         0  ",
            "text/html": "<div>\n<style scoped>\n    .dataframe tbody tr th:only-of-type {\n        vertical-align: middle;\n    }\n\n    .dataframe tbody tr th {\n        vertical-align: top;\n    }\n\n    .dataframe thead th {\n        text-align: right;\n    }\n</style>\n<table border=\"1\" class=\"dataframe\">\n  <thead>\n    <tr style=\"text-align: right;\">\n      <th></th>\n      <th>PatientID</th>\n      <th>Pregnancies</th>\n      <th>PlasmaGlucose</th>\n      <th>DiastolicBloodPressure</th>\n      <th>TricepsThickness</th>\n      <th>SerumInsulin</th>\n      <th>BMI</th>\n      <th>DiabetesPedigree</th>\n      <th>Age</th>\n      <th>Diabetic</th>\n    </tr>\n  </thead>\n  <tbody>\n    <tr>\n      <th>0</th>\n      <td>1354778</td>\n      <td>0</td>\n      <td>171</td>\n      <td>80</td>\n      <td>34</td>\n      <td>23</td>\n      <td>43.509726</td>\n      <td>1.213191</td>\n      <td>21</td>\n      <td>0</td>\n    </tr>\n    <tr>\n      <th>1</th>\n      <td>1147438</td>\n      <td>8</td>\n      <td>92</td>\n      <td>93</td>\n      <td>47</td>\n      <td>36</td>\n      <td>21.240576</td>\n      <td>0.158365</td>\n      <td>23</td>\n      <td>0</td>\n    </tr>\n    <tr>\n      <th>2</th>\n      <td>1640031</td>\n      <td>7</td>\n      <td>115</td>\n      <td>47</td>\n      <td>52</td>\n      <td>35</td>\n      <td>41.511523</td>\n      <td>0.079019</td>\n      <td>23</td>\n      <td>0</td>\n    </tr>\n    <tr>\n      <th>3</th>\n      <td>1883350</td>\n      <td>9</td>\n      <td>103</td>\n      <td>78</td>\n      <td>25</td>\n      <td>304</td>\n      <td>29.582192</td>\n      <td>1.282870</td>\n      <td>43</td>\n      <td>1</td>\n    </tr>\n    <tr>\n      <th>4</th>\n      <td>1424119</td>\n      <td>1</td>\n      <td>85</td>\n      <td>59</td>\n      <td>27</td>\n      <td>35</td>\n      <td>42.604536</td>\n      <td>0.549542</td>\n      <td>22</td>\n      <td>0</td>\n    </tr>\n  </tbody>\n</table>\n</div>"
          },
          "metadata": {}
        }
      ],
      "execution_count": 9,
      "metadata": {
        "gather": {
          "logged": 1736975914242
        },
        "vscode": {
          "languageId": "python"
        }
      }
    },
    {
      "attachments": {},
      "cell_type": "markdown",
      "source": [
        "Next, you'll split the data into features and the label (Diabetes):"
      ],
      "metadata": {}
    },
    {
      "cell_type": "code",
      "source": [
        "print(\"Splitting data...\")\n",
        "X, y = df[['Pregnancies','PlasmaGlucose','DiastolicBloodPressure','TricepsThickness','SerumInsulin','BMI','DiabetesPedigree','Age']].values, df['Diabetic'].values"
      ],
      "outputs": [
        {
          "output_type": "stream",
          "name": "stdout",
          "text": "Splitting data...\n"
        }
      ],
      "execution_count": 10,
      "metadata": {
        "gather": {
          "logged": 1736975929580
        },
        "vscode": {
          "languageId": "python"
        }
      }
    },
    {
      "cell_type": "code",
      "source": [
        "from sklearn.model_selection import train_test_split\n",
        "\n",
        "X_train, X_test, y_train, y_test = train_test_split(X, y, test_size=0.30, random_state=0)"
      ],
      "outputs": [],
      "execution_count": 11,
      "metadata": {
        "gather": {
          "logged": 1736975935487
        },
        "vscode": {
          "languageId": "python"
        }
      }
    },
    {
      "attachments": {},
      "cell_type": "markdown",
      "source": [
        "You now have four dataframes:\n",
        "\n",
        "- `X_train`: The training dataset containing the features.\n",
        "- `X_test`: The test dataset containing the features.\n",
        "- `y_train`: The label for the training dataset.\n",
        "- `y_test`: The label for the test dataset.\n",
        "\n",
        "You'll use these to train and evaluate the models you'll train.\n",
        "\n",
        "## Create an MLflow experiment\n",
        "\n",
        "Now that you're ready to train machine learning models, you'll first create an MLflow experiment. By creating the experiment, you can group all runs within one experiment and make it easier to find the runs in the studio."
      ],
      "metadata": {}
    },
    {
      "cell_type": "code",
      "source": [
        "import mlflow\n",
        "experiment_name = \"mlflow-experiment-diabetes\"\n",
        "mlflow.set_experiment(experiment_name)"
      ],
      "outputs": [
        {
          "output_type": "stream",
          "name": "stderr",
          "text": "2025/01/15 21:19:10 INFO mlflow.tracking.fluent: Experiment with name 'mlflow-experiment-diabetes' does not exist. Creating a new experiment.\n"
        },
        {
          "output_type": "execute_result",
          "execution_count": 12,
          "data": {
            "text/plain": "<Experiment: artifact_location='', creation_time=1736975950848, experiment_id='cb8a2375-4be2-4a70-826d-789363780f49', last_update_time=None, lifecycle_stage='active', name='mlflow-experiment-diabetes', tags={}>"
          },
          "metadata": {}
        }
      ],
      "execution_count": 12,
      "metadata": {
        "vscode": {
          "languageId": "python"
        },
        "gather": {
          "logged": 1736975946866
        }
      }
    },
    {
      "attachments": {},
      "cell_type": "markdown",
      "source": [
        "## Train and track models\n",
        "\n",
        "To track a model you train, you can use MLflow and enable autologging. The following cell will train a classification model using logistic regression. You'll notice that you don't need to calculate any evaluation metrics because they're automatically created and logged by MLflow."
      ],
      "metadata": {}
    },
    {
      "cell_type": "code",
      "source": [
        "from sklearn.linear_model import LogisticRegression\n",
        "\n",
        "with mlflow.start_run():\n",
        "    mlflow.sklearn.autolog()\n",
        "\n",
        "    model = LogisticRegression(C=1/0.1, solver=\"liblinear\").fit(X_train, y_train)\n"
      ],
      "outputs": [
        {
          "output_type": "stream",
          "name": "stdout",
          "text": "🏃 View run cool_pizza_43jmhzzj at: https://northeurope.api.azureml.ms/mlflow/v2.0/subscriptions/7e2159e4-6ae5-4b5b-b368-78e1ef4f668e/resourceGroups/rg-dp100-lb1006dd605af411eb0/providers/Microsoft.MachineLearningServices/workspaces/mlw-dp100-lb1006dd605af411eb0/#/experiments/cb8a2375-4be2-4a70-826d-789363780f49/runs/ea71fa6f-1448-492a-9716-93fa25d63547\n🧪 View experiment at: https://northeurope.api.azureml.ms/mlflow/v2.0/subscriptions/7e2159e4-6ae5-4b5b-b368-78e1ef4f668e/resourceGroups/rg-dp100-lb1006dd605af411eb0/providers/Microsoft.MachineLearningServices/workspaces/mlw-dp100-lb1006dd605af411eb0/#/experiments/cb8a2375-4be2-4a70-826d-789363780f49\n"
        }
      ],
      "execution_count": 13,
      "metadata": {
        "gather": {
          "logged": 1736975967674
        },
        "vscode": {
          "languageId": "python"
        }
      }
    },
    {
      "attachments": {},
      "cell_type": "markdown",
      "source": [
        "You can also use custom logging with MLflow. You can add custom logging to autologging, or you can use only custom logging.\n",
        "\n",
        "Let's train two more models with scikit-learn. Since you ran the `mlflow.sklearn.autolog()` command before, MLflow will now automatically log any model trained with scikit-learn. To disable the autologging, run the following cell:"
      ],
      "metadata": {}
    },
    {
      "cell_type": "code",
      "source": [
        "mlflow.sklearn.autolog(disable=True)"
      ],
      "outputs": [],
      "execution_count": 14,
      "metadata": {
        "gather": {
          "logged": 1736975967751
        },
        "jupyter": {
          "outputs_hidden": false,
          "source_hidden": false
        },
        "nteract": {
          "transient": {
            "deleting": false
          }
        },
        "vscode": {
          "languageId": "python"
        }
      }
    },
    {
      "attachments": {},
      "cell_type": "markdown",
      "source": [
        "Now, you can train and track models using only custom logging. \n",
        "\n",
        "When you run the following cell, you'll only log one parameter and one metric."
      ],
      "metadata": {}
    },
    {
      "cell_type": "code",
      "source": [
        "from sklearn.linear_model import LogisticRegression\n",
        "import numpy as np\n",
        "\n",
        "with mlflow.start_run():\n",
        "    model = LogisticRegression(C=1/0.1, solver=\"liblinear\").fit(X_train, y_train)\n",
        "\n",
        "    y_hat = model.predict(X_test)\n",
        "    acc = np.average(y_hat == y_test)\n",
        "\n",
        "    mlflow.log_param(\"regularization_rate\", 0.1)\n",
        "    mlflow.log_metric(\"Accuracy\", acc)"
      ],
      "outputs": [
        {
          "output_type": "stream",
          "name": "stdout",
          "text": "🏃 View run teal_hook_kmfq4bfp at: https://northeurope.api.azureml.ms/mlflow/v2.0/subscriptions/7e2159e4-6ae5-4b5b-b368-78e1ef4f668e/resourceGroups/rg-dp100-lb1006dd605af411eb0/providers/Microsoft.MachineLearningServices/workspaces/mlw-dp100-lb1006dd605af411eb0/#/experiments/cb8a2375-4be2-4a70-826d-789363780f49/runs/63ee2c3a-3150-4fc1-bacf-e4631abb3d9c\n🧪 View experiment at: https://northeurope.api.azureml.ms/mlflow/v2.0/subscriptions/7e2159e4-6ae5-4b5b-b368-78e1ef4f668e/resourceGroups/rg-dp100-lb1006dd605af411eb0/providers/Microsoft.MachineLearningServices/workspaces/mlw-dp100-lb1006dd605af411eb0/#/experiments/cb8a2375-4be2-4a70-826d-789363780f49\n"
        }
      ],
      "execution_count": 15,
      "metadata": {
        "jupyter": {
          "outputs_hidden": false,
          "source_hidden": false
        },
        "nteract": {
          "transient": {
            "deleting": false
          }
        },
        "vscode": {
          "languageId": "python"
        },
        "gather": {
          "logged": 1736975968646
        }
      }
    },
    {
      "attachments": {},
      "cell_type": "markdown",
      "source": [
        "The reason why you'd want to track models, could be to compare the results of models you train with different hyperparameter values. \n",
        "\n",
        "For example, you just trained a logistic regression model with a regularization rate of 0.1. Now, train another model, but this time with a regularization rate of 0.01. Since you're also tracking the accuracy, you can compare and decide which rate results in a better performing model."
      ],
      "metadata": {}
    },
    {
      "cell_type": "code",
      "source": [
        "from sklearn.linear_model import LogisticRegression\n",
        "import numpy as np\n",
        "\n",
        "with mlflow.start_run():\n",
        "    model = LogisticRegression(C=1/0.01, solver=\"liblinear\").fit(X_train, y_train)\n",
        "\n",
        "    y_hat = model.predict(X_test)\n",
        "    acc = np.average(y_hat == y_test)\n",
        "\n",
        "    mlflow.log_param(\"regularization_rate\", 0.01)\n",
        "    mlflow.log_metric(\"Accuracy\", acc)"
      ],
      "outputs": [
        {
          "output_type": "stream",
          "name": "stdout",
          "text": "🏃 View run olive_cow_tqt9g6dc at: https://northeurope.api.azureml.ms/mlflow/v2.0/subscriptions/7e2159e4-6ae5-4b5b-b368-78e1ef4f668e/resourceGroups/rg-dp100-lb1006dd605af411eb0/providers/Microsoft.MachineLearningServices/workspaces/mlw-dp100-lb1006dd605af411eb0/#/experiments/cb8a2375-4be2-4a70-826d-789363780f49/runs/0626b211-df18-4062-a54f-fd50e1d13457\n🧪 View experiment at: https://northeurope.api.azureml.ms/mlflow/v2.0/subscriptions/7e2159e4-6ae5-4b5b-b368-78e1ef4f668e/resourceGroups/rg-dp100-lb1006dd605af411eb0/providers/Microsoft.MachineLearningServices/workspaces/mlw-dp100-lb1006dd605af411eb0/#/experiments/cb8a2375-4be2-4a70-826d-789363780f49\n"
        }
      ],
      "execution_count": 16,
      "metadata": {
        "gather": {
          "logged": 1736975969517
        },
        "jupyter": {
          "outputs_hidden": false,
          "source_hidden": false
        },
        "nteract": {
          "transient": {
            "deleting": false
          }
        },
        "vscode": {
          "languageId": "python"
        }
      }
    },
    {
      "attachments": {},
      "cell_type": "markdown",
      "source": [
        "Another reason to track your model's results is when you're testing another estimator. All models you've trained so far used the logistic regression estimator. \n",
        "\n",
        "Run the following cell to train a model with the decision tree classifier estimator and review whether the accuracy is higher compared to the other runs."
      ],
      "metadata": {}
    },
    {
      "cell_type": "code",
      "source": [
        "from sklearn.tree import DecisionTreeClassifier\n",
        "import numpy as np\n",
        "\n",
        "with mlflow.start_run():\n",
        "    model = DecisionTreeClassifier().fit(X_train, y_train)\n",
        "\n",
        "    y_hat = model.predict(X_test)\n",
        "    acc = np.average(y_hat == y_test)\n",
        "\n",
        "    mlflow.log_param(\"estimator\", \"DecisionTreeClassifier\")\n",
        "    mlflow.log_metric(\"Accuracy\", acc)"
      ],
      "outputs": [
        {
          "output_type": "stream",
          "name": "stdout",
          "text": "🏃 View run witty_sock_wz4dv34d at: https://northeurope.api.azureml.ms/mlflow/v2.0/subscriptions/7e2159e4-6ae5-4b5b-b368-78e1ef4f668e/resourceGroups/rg-dp100-lb1006dd605af411eb0/providers/Microsoft.MachineLearningServices/workspaces/mlw-dp100-lb1006dd605af411eb0/#/experiments/cb8a2375-4be2-4a70-826d-789363780f49/runs/21826c92-3acd-44af-beed-6a1076b9c967\n🧪 View experiment at: https://northeurope.api.azureml.ms/mlflow/v2.0/subscriptions/7e2159e4-6ae5-4b5b-b368-78e1ef4f668e/resourceGroups/rg-dp100-lb1006dd605af411eb0/providers/Microsoft.MachineLearningServices/workspaces/mlw-dp100-lb1006dd605af411eb0/#/experiments/cb8a2375-4be2-4a70-826d-789363780f49\n"
        }
      ],
      "execution_count": 17,
      "metadata": {
        "gather": {
          "logged": 1736975970568
        },
        "jupyter": {
          "outputs_hidden": false,
          "source_hidden": false
        },
        "nteract": {
          "transient": {
            "deleting": false
          }
        },
        "vscode": {
          "languageId": "python"
        }
      }
    },
    {
      "attachments": {},
      "cell_type": "markdown",
      "source": [
        "Finally, let's try to log an artifact. An artifact can be any file. For example, you can plot the ROC curve and store the plot as an image. The image can be logged as an artifact. \n",
        "\n",
        "Run the following cell to log a parameter, metric, and an artifact."
      ],
      "metadata": {}
    },
    {
      "cell_type": "code",
      "source": [
        "from sklearn.tree import DecisionTreeClassifier\n",
        "from sklearn.metrics import roc_curve\n",
        "import matplotlib.pyplot as plt\n",
        "import numpy as np\n",
        "\n",
        "with mlflow.start_run():\n",
        "    model = DecisionTreeClassifier().fit(X_train, y_train)\n",
        "\n",
        "    y_hat = model.predict(X_test)\n",
        "    acc = np.average(y_hat == y_test)\n",
        "\n",
        "    # plot ROC curve\n",
        "    y_scores = model.predict_proba(X_test)\n",
        "\n",
        "    fpr, tpr, thresholds = roc_curve(y_test, y_scores[:,1])\n",
        "    fig = plt.figure(figsize=(6, 4))\n",
        "    # Plot the diagonal 50% line\n",
        "    plt.plot([0, 1], [0, 1], 'k--')\n",
        "    # Plot the FPR and TPR achieved by our model\n",
        "    plt.plot(fpr, tpr)\n",
        "    plt.xlabel('False Positive Rate')\n",
        "    plt.ylabel('True Positive Rate')\n",
        "    plt.title('ROC Curve')\n",
        "    plt.savefig(\"ROC-Curve.png\")\n",
        "\n",
        "    mlflow.log_param(\"estimator\", \"DecisionTreeClassifier\")\n",
        "    mlflow.log_metric(\"Accuracy\", acc)\n",
        "    mlflow.log_artifact(\"ROC-Curve.png\")"
      ],
      "outputs": [
        {
          "output_type": "stream",
          "name": "stdout",
          "text": "🏃 View run kind_drain_6n03xy8n at: https://northeurope.api.azureml.ms/mlflow/v2.0/subscriptions/7e2159e4-6ae5-4b5b-b368-78e1ef4f668e/resourceGroups/rg-dp100-lb1006dd605af411eb0/providers/Microsoft.MachineLearningServices/workspaces/mlw-dp100-lb1006dd605af411eb0/#/experiments/cb8a2375-4be2-4a70-826d-789363780f49/runs/b5e5ee31-c5ad-48b2-b351-c41b5f236a17\n🧪 View experiment at: https://northeurope.api.azureml.ms/mlflow/v2.0/subscriptions/7e2159e4-6ae5-4b5b-b368-78e1ef4f668e/resourceGroups/rg-dp100-lb1006dd605af411eb0/providers/Microsoft.MachineLearningServices/workspaces/mlw-dp100-lb1006dd605af411eb0/#/experiments/cb8a2375-4be2-4a70-826d-789363780f49\n"
        }
      ],
      "execution_count": 18,
      "metadata": {
        "vscode": {
          "languageId": "python"
        },
        "gather": {
          "logged": 1736975972187
        }
      }
    },
    {
      "attachments": {},
      "cell_type": "markdown",
      "source": [
        "Review the model's results on the Jobs page of the Azure Machine Learning studio. \n",
        "\n",
        "- You'll find the parameters under **Params** in the **Overview** tab.\n",
        "- You'll find the metrics under **Metrics** in the **Overview** tab, and in the **Metrics** tab.\n",
        "- You'll find the artifacts in the **Outputs + logs** tab.\n",
        "\n",
        "![Screenshot of outputs and logs tab on the Jobs page.](./images/output-logs.png)"
      ],
      "metadata": {}
    }
  ],
  "metadata": {
    "interpreter": {
      "hash": "f2b2cd046deda8eabef1e765a11d0ec9aa9bd1d31d56ce79c815a38c323e14ec"
    },
    "kernel_info": {
      "name": "python38-azureml"
    },
    "kernelspec": {
      "name": "python38-azureml",
      "language": "python",
      "display_name": "Python 3.8 - AzureML"
    },
    "microsoft": {
      "host": {
        "AzureML": {
          "notebookHasBeenCompleted": true
        }
      }
    },
    "nteract": {
      "version": "nteract-front-end@1.0.0"
    },
    "language_info": {
      "name": "python",
      "version": "3.10.11",
      "mimetype": "text/x-python",
      "codemirror_mode": {
        "name": "ipython",
        "version": 3
      },
      "pygments_lexer": "ipython3",
      "nbconvert_exporter": "python",
      "file_extension": ".py"
    }
  },
  "nbformat": 4,
  "nbformat_minor": 0
}