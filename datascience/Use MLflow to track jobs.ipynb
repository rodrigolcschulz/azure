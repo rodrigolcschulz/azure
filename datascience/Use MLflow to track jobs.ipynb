{
  "cells": [
    {
      "attachments": {},
      "cell_type": "markdown",
      "source": [
        "# Run a training script as a command job\n",
        "\n",
        "You can use the Python SDK for Azure Machine Learning to submit scripts as command jobs. By using jobs, you can easily keep track of the input parameters and outputs when training a machine learning model.\n",
        "\n",
        "## Before you start\n",
        "\n",
        "You'll need the latest version of the **azure-ai-ml** package to run the code in this notebook. Run the cell below to verify that it is installed.\n",
        "\n",
        "> **Note**:\n",
        "> If the **azure-ai-ml** package is not installed, run `pip install azure-ai-ml` to install it."
      ],
      "metadata": {}
    },
    {
      "cell_type": "code",
      "source": [
        "pip show azure-ai-ml"
      ],
      "outputs": [
        {
          "output_type": "stream",
          "name": "stdout",
          "text": "Name: azure-ai-ml\nVersion: 1.23.1\nSummary: Microsoft Azure Machine Learning Client Library for Python\nHome-page: https://github.com/Azure/azure-sdk-for-python\nAuthor: Microsoft Corporation\nAuthor-email: azuresdkengsysadmins@microsoft.com\nLicense: MIT License\nLocation: /anaconda/envs/azureml_py38/lib/python3.10/site-packages\nRequires: azure-common, azure-core, azure-mgmt-core, azure-storage-blob, azure-storage-file-datalake, azure-storage-file-share, colorama, isodate, jsonschema, marshmallow, msrest, opencensus-ext-azure, opencensus-ext-logging, pydash, pyjwt, pyyaml, strictyaml, tqdm, typing-extensions\nRequired-by: \nNote: you may need to restart the kernel to use updated packages.\n"
        }
      ],
      "execution_count": 33,
      "metadata": {
        "vscode": {
          "languageId": "python"
        },
        "gather": {
          "logged": 1737035759044
        }
      }
    },
    {
      "attachments": {},
      "cell_type": "markdown",
      "source": [
        "## Connect to your workspace\n",
        "\n",
        "With the required SDK packages installed, now you're ready to connect to your workspace.\n",
        "\n",
        "To connect to a workspace, we need identifier parameters - a subscription ID, resource group name, and workspace name. Since you're working with a compute instance, managed by Azure Machine Learning, you can use the default values to connect to the workspace."
      ],
      "metadata": {}
    },
    {
      "cell_type": "code",
      "source": [
        "from azure.identity import DefaultAzureCredential, InteractiveBrowserCredential\n",
        "from azure.ai.ml import MLClient\n",
        "\n",
        "try:\n",
        "    credential = DefaultAzureCredential()\n",
        "    # Check if given credential can get token successfully.\n",
        "    credential.get_token(\"https://management.azure.com/.default\")\n",
        "except Exception as ex:\n",
        "    # Fall back to InteractiveBrowserCredential in case DefaultAzureCredential not work\n",
        "    credential = InteractiveBrowserCredential()"
      ],
      "outputs": [],
      "execution_count": 44,
      "metadata": {
        "gather": {
          "logged": 1737036852325
        },
        "vscode": {
          "languageId": "python"
        }
      }
    },
    {
      "cell_type": "code",
      "source": [
        "# Get a handle to workspace\n",
        "ml_client = MLClient.from_config(credential=credential)"
      ],
      "outputs": [
        {
          "output_type": "stream",
          "name": "stderr",
          "text": "Found the config file in: /config.json\n"
        }
      ],
      "execution_count": 45,
      "metadata": {
        "vscode": {
          "languageId": "python"
        },
        "gather": {
          "logged": 1737036853659
        }
      }
    },
    {
      "attachments": {},
      "cell_type": "markdown",
      "source": [
        "## Custom tracking with MLflow\n",
        "\n",
        "When running a script as a job you can use MLflow in your training script to track the model. MLflow allows you to track any custom parameters, metrics, or artifacts you want to store with your job output.\n",
        "\n",
        "Run the following cells to create the **train-model-mlflow.py** script in the **src** folder. The script trains a classification model by using the **diabetes.csv** file in the same folder, which is passed as an argument. \n",
        "\n",
        "Review the code below to find that the script will import `mlflow` and log:\n",
        "\n",
        "- The regularization rate as a **parameter**. \n",
        "- The accuracy and AUC as **metrics**.\n",
        "- The plotted ROC curve as an **artifact**."
      ],
      "metadata": {}
    },
    {
      "cell_type": "code",
      "source": [
        "import os\n",
        "\n",
        "# Caminho para o diretório desejado\n",
        "target_directory = '/home/azureuser/cloudfiles/code/Users/rodrigo.lacerda/azure-ml-labs/Labs/08'\n",
        "\n",
        "# Mudar o diretório atual\n",
        "os.chdir(target_directory)\n",
        "\n",
        "# Verifique o diretório atual\n",
        "print(f'O diretório atual foi alterado para: {os.getcwd()}')\n"
      ],
      "outputs": [
        {
          "output_type": "stream",
          "name": "stdout",
          "text": "O diretório atual foi alterado para: /mnt/batch/tasks/shared/LS_root/mounts/clusters/ci5dda82ec1f594d8596/code/Users/rodrigo.lacerda/azure-ml-labs/Labs/08\n"
        }
      ],
      "execution_count": 46,
      "metadata": {
        "gather": {
          "logged": 1737036860761
        }
      }
    },
    {
      "cell_type": "code",
      "source": [
        "import os\n",
        "\n",
        "# create a folder for the script files\n",
        "script_folder = 'src'\n",
        "os.makedirs(script_folder, exist_ok=True)\n",
        "print(script_folder, 'folder created')"
      ],
      "outputs": [
        {
          "output_type": "stream",
          "name": "stdout",
          "text": "src folder created\n"
        }
      ],
      "execution_count": 47,
      "metadata": {
        "vscode": {
          "languageId": "python"
        },
        "gather": {
          "logged": 1737036874911
        }
      }
    },
    {
      "cell_type": "code",
      "source": [
        "%%writefile $script_folder/train-model-mlflow.py\n",
        "# import libraries\n",
        "import mlflow\n",
        "import argparse\n",
        "import pandas as pd\n",
        "import numpy as np\n",
        "from sklearn.model_selection import train_test_split\n",
        "from sklearn.linear_model import LogisticRegression\n",
        "from sklearn.metrics import roc_auc_score\n",
        "from sklearn.metrics import roc_curve\n",
        "import matplotlib.pyplot as plt\n",
        "\n",
        "def main(args):\n",
        "    # read data\n",
        "    df = get_data(args.training_data)\n",
        "\n",
        "    # split data\n",
        "    X_train, X_test, y_train, y_test = split_data(df)\n",
        "\n",
        "    # train model\n",
        "    model = train_model(args.reg_rate, X_train, X_test, y_train, y_test)\n",
        "\n",
        "    # evaluate model\n",
        "    eval_model(model, X_test, y_test)\n",
        "\n",
        "# function that reads the data\n",
        "def get_data(path):\n",
        "    print(\"Reading data...\")\n",
        "    df = pd.read_csv(path)\n",
        "    \n",
        "    return df\n",
        "\n",
        "# function that splits the data\n",
        "def split_data(df):\n",
        "    print(\"Splitting data...\")\n",
        "    X, y = df[['Pregnancies','PlasmaGlucose','DiastolicBloodPressure','TricepsThickness',\n",
        "    'SerumInsulin','BMI','DiabetesPedigree','Age']].values, df['Diabetic'].values\n",
        "\n",
        "    X_train, X_test, y_train, y_test = train_test_split(X, y, test_size=0.30, random_state=0)\n",
        "\n",
        "    return X_train, X_test, y_train, y_test\n",
        "\n",
        "# function that trains the model\n",
        "def train_model(reg_rate, X_train, X_test, y_train, y_test):\n",
        "    mlflow.log_param(\"Regularization rate\", reg_rate)\n",
        "    print(\"Training model...\")\n",
        "    model = LogisticRegression(C=1/reg_rate, solver=\"liblinear\").fit(X_train, y_train)\n",
        "\n",
        "    return model\n",
        "\n",
        "# function that evaluates the model\n",
        "def eval_model(model, X_test, y_test):\n",
        "    # calculate accuracy\n",
        "    y_hat = model.predict(X_test)\n",
        "    acc = np.average(y_hat == y_test)\n",
        "    print('Accuracy:', acc)\n",
        "    mlflow.log_metric(\"Accuracy\", acc)\n",
        "\n",
        "    # calculate AUC\n",
        "    y_scores = model.predict_proba(X_test)\n",
        "    auc = roc_auc_score(y_test,y_scores[:,1])\n",
        "    print('AUC: ' + str(auc))\n",
        "    mlflow.log_metric(\"AUC\", auc)\n",
        "\n",
        "    # plot ROC curve\n",
        "    fpr, tpr, thresholds = roc_curve(y_test, y_scores[:,1])\n",
        "    fig = plt.figure(figsize=(6, 4))\n",
        "    # Plot the diagonal 50% line\n",
        "    plt.plot([0, 1], [0, 1], 'k--')\n",
        "    # Plot the FPR and TPR achieved by our model\n",
        "    plt.plot(fpr, tpr)\n",
        "    plt.xlabel('False Positive Rate')\n",
        "    plt.ylabel('True Positive Rate')\n",
        "    plt.title('ROC Curve')\n",
        "    plt.savefig(\"ROC-Curve.png\")\n",
        "    mlflow.log_artifact(\"ROC-Curve.png\")    \n",
        "\n",
        "def parse_args():\n",
        "    # setup arg parser\n",
        "    parser = argparse.ArgumentParser()\n",
        "\n",
        "    # add arguments\n",
        "    parser.add_argument(\"--training_data\", dest='training_data',\n",
        "                        type=str)\n",
        "    parser.add_argument(\"--reg_rate\", dest='reg_rate',\n",
        "                        type=float, default=0.01)\n",
        "\n",
        "    # parse args\n",
        "    args = parser.parse_args()\n",
        "\n",
        "    # return args\n",
        "    return args\n",
        "\n",
        "# run script\n",
        "if __name__ == \"__main__\":\n",
        "    # add space in logs\n",
        "    print(\"\\n\\n\")\n",
        "    print(\"*\" * 60)\n",
        "\n",
        "    # parse args\n",
        "    args = parse_args()\n",
        "\n",
        "    # run main function\n",
        "    main(args)\n",
        "\n",
        "    # add space in logs\n",
        "    print(\"*\" * 60)\n",
        "    print(\"\\n\\n\")\n"
      ],
      "outputs": [
        {
          "output_type": "stream",
          "name": "stdout",
          "text": "Writing src/train-model-mlflow.py\n"
        }
      ],
      "execution_count": 50,
      "metadata": {
        "vscode": {
          "languageId": "python"
        }
      }
    },
    {
      "attachments": {},
      "cell_type": "markdown",
      "source": [
        "Now, you can submit the script as a command job.\n",
        "\n",
        "Run the cell below to train the model. "
      ],
      "metadata": {}
    },
    {
      "cell_type": "code",
      "source": [
        "from azure.ai.ml import command\n",
        "\n",
        "# configure job\n",
        "\n",
        "job = command(\n",
        "    code=\"./src\",\n",
        "    command=\"python train-model-mlflow.py --training_data diabetes.csv\",\n",
        "    environment=\"AzureML-sklearn-0.24-ubuntu18.04-py37-cpu@latest\",\n",
        "    compute=\"aml-cluster\",\n",
        "    display_name=\"diabetes-train-mlflow\",\n",
        "    experiment_name=\"diabetes-training\", \n",
        "    tags={\"model_type\": \"LogisticRegression\"}\n",
        "    )\n",
        "\n",
        "# submit job\n",
        "returned_job = ml_client.create_or_update(job)\n",
        "aml_url = returned_job.studio_url\n",
        "print(\"Monitor your job at\", aml_url)"
      ],
      "outputs": [
        {
          "output_type": "stream",
          "name": "stderr",
          "text": "\u001b[32mUploading src (0.53 MBs): 100%|██████████| 528629/528629 [00:00<00:00, 3535029.71it/s]\n\u001b[39m\n\n"
        },
        {
          "output_type": "stream",
          "name": "stdout",
          "text": "Monitor your job at https://ml.azure.com/runs/nice_carnival_m7x6r51s1h?wsid=/subscriptions/7e2159e4-6ae5-4b5b-b368-78e1ef4f668e/resourcegroups/rg-dp100-l5dda82ec1f594d8596/workspaces/mlw-dp100-l5dda82ec1f594d8596&tid=98ef5d5d-630e-43cd-9919-f51ce042be4c\n"
        }
      ],
      "execution_count": 51,
      "metadata": {
        "vscode": {
          "languageId": "python"
        },
        "gather": {
          "logged": 1737036979934
        }
      }
    },
    {
      "attachments": {},
      "cell_type": "markdown",
      "source": [
        "In the Studio, navigate to the **diabetes-train-mlflow** job to explore the overview of the command job you ran:\n",
        "\n",
        "- Find the logged parameters in the **Overview** tab, under **Params**.\n",
        "- Find the logged metrics in the **Metrics** tab.\n",
        "- Find the logged artifacts in the **Images** tab (specifically for images), and in the **Outputs + logs** tab (all files)."
      ],
      "metadata": {}
    },
    {
      "attachments": {},
      "cell_type": "markdown",
      "source": [
        "## Autologging with MLflow\n",
        "\n",
        "Instead of using custom logging, MLflow can also automatically log any parameters, metrics, and artifacts. Autologging with MLflow requires only one line of code.\n",
        "\n",
        "Run the following cell to create the **train-model-autolog.py** script in the **src** folder. The script trains a classification model by using the **diabetes.csv** file in the same folder, which is passed as an argument. \n",
        "\n",
        "Review the code below to find that the script will import `mlflow` and enables autologging with the line: \n",
        "\n",
        "`mlflow.autolog()`"
      ],
      "metadata": {}
    },
    {
      "cell_type": "code",
      "source": [
        "%%writefile $script_folder/train-model-autolog.py\n",
        "# import libraries\n",
        "import mlflow\n",
        "import argparse\n",
        "import pandas as pd\n",
        "import numpy as np\n",
        "from sklearn.model_selection import train_test_split\n",
        "from sklearn.linear_model import LogisticRegression\n",
        "from sklearn.metrics import roc_auc_score\n",
        "from sklearn.metrics import roc_curve\n",
        "import matplotlib.pyplot as plt\n",
        "\n",
        "def main(args):\n",
        "    # enable autologging\n",
        "    mlflow.autolog()\n",
        "\n",
        "    # read data\n",
        "    df = get_data(args.training_data)\n",
        "\n",
        "    # split data\n",
        "    X_train, X_test, y_train, y_test = split_data(df)\n",
        "\n",
        "    # train model\n",
        "    model = train_model(args.reg_rate, X_train, X_test, y_train, y_test)\n",
        "\n",
        "    eval_model(model, X_test, y_test)\n",
        "\n",
        "# function that reads the data\n",
        "def get_data(path):\n",
        "    print(\"Reading data...\")\n",
        "    df = pd.read_csv(path)\n",
        "    \n",
        "    return df\n",
        "\n",
        "# function that splits the data\n",
        "def split_data(df):\n",
        "    print(\"Splitting data...\")\n",
        "    X, y = df[['Pregnancies','PlasmaGlucose','DiastolicBloodPressure','TricepsThickness',\n",
        "    'SerumInsulin','BMI','DiabetesPedigree','Age']].values, df['Diabetic'].values\n",
        "\n",
        "    X_train, X_test, y_train, y_test = train_test_split(X, y, test_size=0.30, random_state=0)\n",
        "\n",
        "    return X_train, X_test, y_train, y_test\n",
        "\n",
        "# function that trains the model\n",
        "def train_model(reg_rate, X_train, X_test, y_train, y_test):\n",
        "    print(\"Training model...\")\n",
        "    model = LogisticRegression(C=1/reg_rate, solver=\"liblinear\").fit(X_train, y_train)\n",
        "\n",
        "    return model\n",
        "\n",
        "# function that evaluates the model\n",
        "def eval_model(model, X_test, y_test):\n",
        "    # calculate accuracy\n",
        "    y_hat = model.predict(X_test)\n",
        "    acc = np.average(y_hat == y_test)\n",
        "    print('Accuracy:', acc)\n",
        "\n",
        "    # calculate AUC\n",
        "    y_scores = model.predict_proba(X_test)\n",
        "    auc = roc_auc_score(y_test,y_scores[:,1])\n",
        "    print('AUC: ' + str(auc))\n",
        "\n",
        "    # plot ROC curve\n",
        "    fpr, tpr, thresholds = roc_curve(y_test, y_scores[:,1])\n",
        "    fig = plt.figure(figsize=(6, 4))\n",
        "    # Plot the diagonal 50% line\n",
        "    plt.plot([0, 1], [0, 1], 'k--')\n",
        "    # Plot the FPR and TPR achieved by our model\n",
        "    plt.plot(fpr, tpr)\n",
        "    plt.xlabel('False Positive Rate')\n",
        "    plt.ylabel('True Positive Rate')\n",
        "    plt.title('ROC Curve')\n",
        "    plt.savefig(\"ROC-Curve.png\") \n",
        "\n",
        "def parse_args():\n",
        "    # setup arg parser\n",
        "    parser = argparse.ArgumentParser()\n",
        "\n",
        "    # add arguments\n",
        "    parser.add_argument(\"--training_data\", dest='training_data',\n",
        "                        type=str)\n",
        "    parser.add_argument(\"--reg_rate\", dest='reg_rate',\n",
        "                        type=float, default=0.01)\n",
        "\n",
        "    # parse args\n",
        "    args = parser.parse_args()\n",
        "\n",
        "    # return args\n",
        "    return args\n",
        "\n",
        "# run script\n",
        "if __name__ == \"__main__\":\n",
        "    # add space in logs\n",
        "    print(\"\\n\\n\")\n",
        "    print(\"*\" * 60)\n",
        "\n",
        "    # parse args\n",
        "    args = parse_args()\n",
        "\n",
        "    # run main function\n",
        "    main(args)\n",
        "\n",
        "    # add space in logs\n",
        "    print(\"*\" * 60)\n",
        "    print(\"\\n\\n\")\n"
      ],
      "outputs": [
        {
          "output_type": "stream",
          "name": "stdout",
          "text": "Writing src/train-model-autolog.py\n"
        }
      ],
      "execution_count": 52,
      "metadata": {
        "vscode": {
          "languageId": "python"
        }
      }
    },
    {
      "attachments": {},
      "cell_type": "markdown",
      "source": [
        "Now, you can submit the script as a command job.\n",
        "\n",
        "Run the cell below to train the model. "
      ],
      "metadata": {}
    },
    {
      "cell_type": "code",
      "source": [
        "from azure.ai.ml import command\n",
        "\n",
        "# configure job\n",
        "\n",
        "job = command(\n",
        "    code=\"./src\",\n",
        "    command=\"python train-model-autolog.py --training_data diabetes.csv\",\n",
        "    environment=\"AzureML-sklearn-0.24-ubuntu18.04-py37-cpu@latest\",\n",
        "    compute=\"aml-cluster\",\n",
        "    display_name=\"diabetes-train-autolog\",\n",
        "    experiment_name=\"diabetes-training\"\n",
        "    )\n",
        "\n",
        "# submit job\n",
        "returned_job = ml_client.create_or_update(job)\n",
        "aml_url = returned_job.studio_url\n",
        "print(\"Monitor your job at\", aml_url)"
      ],
      "outputs": [
        {
          "output_type": "stream",
          "name": "stderr",
          "text": "\r\u001b[32mUploading src (0.53 MBs):   0%|          | 0/531384 [00:00<?, ?it/s]\r\u001b[32mUploading src (0.53 MBs):   2%|▏         | 10732/531384 [00:00<00:06, 83416.61it/s]\r\u001b[32mUploading src (0.53 MBs): 100%|██████████| 531384/531384 [00:00<00:00, 3426050.07it/s]\n\u001b[39m\n\n"
        },
        {
          "output_type": "stream",
          "name": "stdout",
          "text": "Monitor your job at https://ml.azure.com/runs/jolly_neck_9dlk0mnvyr?wsid=/subscriptions/7e2159e4-6ae5-4b5b-b368-78e1ef4f668e/resourcegroups/rg-dp100-l5dda82ec1f594d8596/workspaces/mlw-dp100-l5dda82ec1f594d8596&tid=98ef5d5d-630e-43cd-9919-f51ce042be4c\n"
        }
      ],
      "execution_count": 53,
      "metadata": {
        "vscode": {
          "languageId": "python"
        },
        "gather": {
          "logged": 1737045269724
        }
      }
    },
    {
      "attachments": {},
      "cell_type": "markdown",
      "source": [
        "In the Studio, navigate to the **diabetes-train-autolog** job to explore the overview of the command job you ran:\n",
        "\n",
        "- Find the logged parameters in the **Overview** tab, under **Params**.\n",
        "- Find the logged metrics in the **Metrics** tab.\n",
        "- Find the logged artifacts in the **Images** tab (specifically for images), and in the **Outputs + logs** tab (all files, including the model files)."
      ],
      "metadata": {}
    },
    {
      "attachments": {},
      "cell_type": "markdown",
      "source": [
        "## Use MLflow to view and search for experiments\n",
        "\n",
        "The Azure Machine Learning Studio is an easy-to-use UI to view and compare job runs. Alternatively, you can use MLflow to view experiment jobs. \n",
        "\n",
        "To list the jobs in the workspace, use the following command to list the experiments in the workspace:\n"
      ],
      "metadata": {}
    },
    {
      "cell_type": "code",
      "source": [
        "import mlflow\n",
        "experiments = mlflow.search_experiments()\n",
        "for exp in experiments:\n",
        "    print(exp.name)"
      ],
      "outputs": [],
      "execution_count": 54,
      "metadata": {
        "vscode": {
          "languageId": "python"
        },
        "gather": {
          "logged": 1737045394416
        }
      }
    },
    {
      "attachments": {},
      "cell_type": "markdown",
      "source": [
        "To retrieve a specific experiment, you can get it by its name:"
      ],
      "metadata": {}
    },
    {
      "cell_type": "code",
      "source": [
        "experiment_name = \"diabetes-training\"\n",
        "exp = mlflow.get_experiment_by_name(experiment_name)\n",
        "print(exp)"
      ],
      "outputs": [
        {
          "output_type": "stream",
          "name": "stdout",
          "text": "<Experiment: artifact_location='', creation_time=1737033457649, experiment_id='afdd4063-adbc-4cf6-afad-fdf51cd9dbb7', last_update_time=None, lifecycle_stage='deleted', name='diabetes-training', tags={}>\n"
        }
      ],
      "execution_count": 55,
      "metadata": {
        "vscode": {
          "languageId": "python"
        },
        "gather": {
          "logged": 1737045394497
        }
      }
    },
    {
      "attachments": {},
      "cell_type": "markdown",
      "source": [
        "Using an experiment name, you can retrieve all jobs of that experiment:"
      ],
      "metadata": {}
    },
    {
      "cell_type": "code",
      "source": [
        "mlflow.search_runs(exp.experiment_id)"
      ],
      "outputs": [
        {
          "output_type": "execute_result",
          "execution_count": 59,
          "data": {
            "text/plain": "                     run_id                         experiment_id    status  \\\n0       zen_ring_0vlj63pxw0  afdd4063-adbc-4cf6-afad-fdf51cd9dbb7    FAILED   \n1     strong_cow_34l8zds4tl  afdd4063-adbc-4cf6-afad-fdf51cd9dbb7    FAILED   \n2  nice_carnival_m7x6r51s1h  afdd4063-adbc-4cf6-afad-fdf51cd9dbb7  FINISHED   \n3     jolly_neck_9dlk0mnvyr  afdd4063-adbc-4cf6-afad-fdf51cd9dbb7  FINISHED   \n\n  artifact_uri                       start_time  \\\n0              2025-01-16 13:34:36.665000+00:00   \n1              2025-01-16 13:34:39.479000+00:00   \n2              2025-01-16 14:19:30.489000+00:00   \n3              2025-01-16 16:37:14.986000+00:00   \n\n                          end_time  metrics.Accuracy  metrics.AUC  \\\n0 2025-01-16 13:36:12.903000+00:00               NaN          NaN   \n1 2025-01-16 13:36:11.049000+00:00               NaN          NaN   \n2 2025-01-16 14:22:11.961000+00:00             0.774      0.84832   \n3 2025-01-16 16:38:51.333000+00:00               NaN          NaN   \n\n   metrics.training_recall_score  metrics.training_accuracy_score  ...  \\\n0                            NaN                              NaN  ...   \n1                            NaN                              NaN  ...   \n2                            NaN                              NaN  ...   \n3                       0.790857                         0.790857  ...   \n\n   params.C  params.warm_start  params.penalty     tags.mlflow.rootRunId  \\\n0      None               None            None       zen_ring_0vlj63pxw0   \n1      None               None            None     strong_cow_34l8zds4tl   \n2      None               None            None  nice_carnival_m7x6r51s1h   \n3     100.0              False              l2     jolly_neck_9dlk0mnvyr   \n\n      tags.model_type     tags.mlflow.runName  \\\n0  LogisticRegression   diabetes-train-mlflow   \n1                None  diabetes-train-autolog   \n2  LogisticRegression   diabetes-train-mlflow   \n3                None  diabetes-train-autolog   \n\n                  tags.mlflow.user  \\\n0  RODRIGO LACERDA CARVALHO SCHULZ   \n1  RODRIGO LACERDA CARVALHO SCHULZ   \n2  RODRIGO LACERDA CARVALHO SCHULZ   \n3  RODRIGO LACERDA CARVALHO SCHULZ   \n\n                                tags.estimator_class tags.mlflow.autologging  \\\n0                                               None                    None   \n1                                               None                    None   \n2                                               None                    None   \n3  sklearn.linear_model._logistic.LogisticRegression                 sklearn   \n\n  tags.estimator_name  \n0                None  \n1                None  \n2                None  \n3  LogisticRegression  \n\n[4 rows x 38 columns]",
            "text/html": "<div>\n<style scoped>\n    .dataframe tbody tr th:only-of-type {\n        vertical-align: middle;\n    }\n\n    .dataframe tbody tr th {\n        vertical-align: top;\n    }\n\n    .dataframe thead th {\n        text-align: right;\n    }\n</style>\n<table border=\"1\" class=\"dataframe\">\n  <thead>\n    <tr style=\"text-align: right;\">\n      <th></th>\n      <th>run_id</th>\n      <th>experiment_id</th>\n      <th>status</th>\n      <th>artifact_uri</th>\n      <th>start_time</th>\n      <th>end_time</th>\n      <th>metrics.Accuracy</th>\n      <th>metrics.AUC</th>\n      <th>metrics.training_recall_score</th>\n      <th>metrics.training_accuracy_score</th>\n      <th>...</th>\n      <th>params.C</th>\n      <th>params.warm_start</th>\n      <th>params.penalty</th>\n      <th>tags.mlflow.rootRunId</th>\n      <th>tags.model_type</th>\n      <th>tags.mlflow.runName</th>\n      <th>tags.mlflow.user</th>\n      <th>tags.estimator_class</th>\n      <th>tags.mlflow.autologging</th>\n      <th>tags.estimator_name</th>\n    </tr>\n  </thead>\n  <tbody>\n    <tr>\n      <th>0</th>\n      <td>zen_ring_0vlj63pxw0</td>\n      <td>afdd4063-adbc-4cf6-afad-fdf51cd9dbb7</td>\n      <td>FAILED</td>\n      <td></td>\n      <td>2025-01-16 13:34:36.665000+00:00</td>\n      <td>2025-01-16 13:36:12.903000+00:00</td>\n      <td>NaN</td>\n      <td>NaN</td>\n      <td>NaN</td>\n      <td>NaN</td>\n      <td>...</td>\n      <td>None</td>\n      <td>None</td>\n      <td>None</td>\n      <td>zen_ring_0vlj63pxw0</td>\n      <td>LogisticRegression</td>\n      <td>diabetes-train-mlflow</td>\n      <td>RODRIGO LACERDA CARVALHO SCHULZ</td>\n      <td>None</td>\n      <td>None</td>\n      <td>None</td>\n    </tr>\n    <tr>\n      <th>1</th>\n      <td>strong_cow_34l8zds4tl</td>\n      <td>afdd4063-adbc-4cf6-afad-fdf51cd9dbb7</td>\n      <td>FAILED</td>\n      <td></td>\n      <td>2025-01-16 13:34:39.479000+00:00</td>\n      <td>2025-01-16 13:36:11.049000+00:00</td>\n      <td>NaN</td>\n      <td>NaN</td>\n      <td>NaN</td>\n      <td>NaN</td>\n      <td>...</td>\n      <td>None</td>\n      <td>None</td>\n      <td>None</td>\n      <td>strong_cow_34l8zds4tl</td>\n      <td>None</td>\n      <td>diabetes-train-autolog</td>\n      <td>RODRIGO LACERDA CARVALHO SCHULZ</td>\n      <td>None</td>\n      <td>None</td>\n      <td>None</td>\n    </tr>\n    <tr>\n      <th>2</th>\n      <td>nice_carnival_m7x6r51s1h</td>\n      <td>afdd4063-adbc-4cf6-afad-fdf51cd9dbb7</td>\n      <td>FINISHED</td>\n      <td></td>\n      <td>2025-01-16 14:19:30.489000+00:00</td>\n      <td>2025-01-16 14:22:11.961000+00:00</td>\n      <td>0.774</td>\n      <td>0.84832</td>\n      <td>NaN</td>\n      <td>NaN</td>\n      <td>...</td>\n      <td>None</td>\n      <td>None</td>\n      <td>None</td>\n      <td>nice_carnival_m7x6r51s1h</td>\n      <td>LogisticRegression</td>\n      <td>diabetes-train-mlflow</td>\n      <td>RODRIGO LACERDA CARVALHO SCHULZ</td>\n      <td>None</td>\n      <td>None</td>\n      <td>None</td>\n    </tr>\n    <tr>\n      <th>3</th>\n      <td>jolly_neck_9dlk0mnvyr</td>\n      <td>afdd4063-adbc-4cf6-afad-fdf51cd9dbb7</td>\n      <td>FINISHED</td>\n      <td></td>\n      <td>2025-01-16 16:37:14.986000+00:00</td>\n      <td>2025-01-16 16:38:51.333000+00:00</td>\n      <td>NaN</td>\n      <td>NaN</td>\n      <td>0.790857</td>\n      <td>0.790857</td>\n      <td>...</td>\n      <td>100.0</td>\n      <td>False</td>\n      <td>l2</td>\n      <td>jolly_neck_9dlk0mnvyr</td>\n      <td>None</td>\n      <td>diabetes-train-autolog</td>\n      <td>RODRIGO LACERDA CARVALHO SCHULZ</td>\n      <td>sklearn.linear_model._logistic.LogisticRegression</td>\n      <td>sklearn</td>\n      <td>LogisticRegression</td>\n    </tr>\n  </tbody>\n</table>\n<p>4 rows × 38 columns</p>\n</div>"
          },
          "metadata": {}
        }
      ],
      "execution_count": 59,
      "metadata": {
        "vscode": {
          "languageId": "python"
        },
        "gather": {
          "logged": 1737046399380
        }
      }
    },
    {
      "attachments": {},
      "cell_type": "markdown",
      "source": [
        "To more easily compare job runs and outputs, you can configure the search to order the results. For example, the following cell orders the results by `start_time`, and only shows a maximum of `2` results: "
      ],
      "metadata": {}
    },
    {
      "cell_type": "code",
      "source": [
        "mlflow.search_runs(exp.experiment_id, order_by=[\"start_time DESC\"], max_results=2)"
      ],
      "outputs": [
        {
          "output_type": "execute_result",
          "execution_count": 60,
          "data": {
            "text/plain": "                     run_id                         experiment_id    status  \\\n0     jolly_neck_9dlk0mnvyr  afdd4063-adbc-4cf6-afad-fdf51cd9dbb7  FINISHED   \n1  nice_carnival_m7x6r51s1h  afdd4063-adbc-4cf6-afad-fdf51cd9dbb7  FINISHED   \n\n  artifact_uri                       start_time  \\\n0              2025-01-16 16:37:14.986000+00:00   \n1              2025-01-16 14:19:30.489000+00:00   \n\n                          end_time  metrics.training_f1_score  \\\n0 2025-01-16 16:38:51.333000+00:00                   0.785843   \n1 2025-01-16 14:22:11.961000+00:00                        NaN   \n\n   metrics.training_precision_score  metrics.training_recall_score  \\\n0                           0.78576                       0.790857   \n1                               NaN                            NaN   \n\n   metrics.training_accuracy_score  ...  params.warm_start  params.penalty  \\\n0                         0.790857  ...              False              l2   \n1                              NaN  ...               None            None   \n\n   params.Regularization rate     tags.mlflow.rootRunId  \\\n0                        None     jolly_neck_9dlk0mnvyr   \n1                        0.01  nice_carnival_m7x6r51s1h   \n\n                                tags.estimator_class tags.mlflow.autologging  \\\n0  sklearn.linear_model._logistic.LogisticRegression                 sklearn   \n1                                               None                    None   \n\n      tags.mlflow.runName                 tags.mlflow.user  \\\n0  diabetes-train-autolog  RODRIGO LACERDA CARVALHO SCHULZ   \n1   diabetes-train-mlflow  RODRIGO LACERDA CARVALHO SCHULZ   \n\n  tags.estimator_name     tags.model_type  \n0  LogisticRegression                None  \n1                None  LogisticRegression  \n\n[2 rows x 38 columns]",
            "text/html": "<div>\n<style scoped>\n    .dataframe tbody tr th:only-of-type {\n        vertical-align: middle;\n    }\n\n    .dataframe tbody tr th {\n        vertical-align: top;\n    }\n\n    .dataframe thead th {\n        text-align: right;\n    }\n</style>\n<table border=\"1\" class=\"dataframe\">\n  <thead>\n    <tr style=\"text-align: right;\">\n      <th></th>\n      <th>run_id</th>\n      <th>experiment_id</th>\n      <th>status</th>\n      <th>artifact_uri</th>\n      <th>start_time</th>\n      <th>end_time</th>\n      <th>metrics.training_f1_score</th>\n      <th>metrics.training_precision_score</th>\n      <th>metrics.training_recall_score</th>\n      <th>metrics.training_accuracy_score</th>\n      <th>...</th>\n      <th>params.warm_start</th>\n      <th>params.penalty</th>\n      <th>params.Regularization rate</th>\n      <th>tags.mlflow.rootRunId</th>\n      <th>tags.estimator_class</th>\n      <th>tags.mlflow.autologging</th>\n      <th>tags.mlflow.runName</th>\n      <th>tags.mlflow.user</th>\n      <th>tags.estimator_name</th>\n      <th>tags.model_type</th>\n    </tr>\n  </thead>\n  <tbody>\n    <tr>\n      <th>0</th>\n      <td>jolly_neck_9dlk0mnvyr</td>\n      <td>afdd4063-adbc-4cf6-afad-fdf51cd9dbb7</td>\n      <td>FINISHED</td>\n      <td></td>\n      <td>2025-01-16 16:37:14.986000+00:00</td>\n      <td>2025-01-16 16:38:51.333000+00:00</td>\n      <td>0.785843</td>\n      <td>0.78576</td>\n      <td>0.790857</td>\n      <td>0.790857</td>\n      <td>...</td>\n      <td>False</td>\n      <td>l2</td>\n      <td>None</td>\n      <td>jolly_neck_9dlk0mnvyr</td>\n      <td>sklearn.linear_model._logistic.LogisticRegression</td>\n      <td>sklearn</td>\n      <td>diabetes-train-autolog</td>\n      <td>RODRIGO LACERDA CARVALHO SCHULZ</td>\n      <td>LogisticRegression</td>\n      <td>None</td>\n    </tr>\n    <tr>\n      <th>1</th>\n      <td>nice_carnival_m7x6r51s1h</td>\n      <td>afdd4063-adbc-4cf6-afad-fdf51cd9dbb7</td>\n      <td>FINISHED</td>\n      <td></td>\n      <td>2025-01-16 14:19:30.489000+00:00</td>\n      <td>2025-01-16 14:22:11.961000+00:00</td>\n      <td>NaN</td>\n      <td>NaN</td>\n      <td>NaN</td>\n      <td>NaN</td>\n      <td>...</td>\n      <td>None</td>\n      <td>None</td>\n      <td>0.01</td>\n      <td>nice_carnival_m7x6r51s1h</td>\n      <td>None</td>\n      <td>None</td>\n      <td>diabetes-train-mlflow</td>\n      <td>RODRIGO LACERDA CARVALHO SCHULZ</td>\n      <td>None</td>\n      <td>LogisticRegression</td>\n    </tr>\n  </tbody>\n</table>\n<p>2 rows × 38 columns</p>\n</div>"
          },
          "metadata": {}
        }
      ],
      "execution_count": 60,
      "metadata": {
        "vscode": {
          "languageId": "python"
        },
        "gather": {
          "logged": 1737046402375
        }
      }
    },
    {
      "attachments": {},
      "cell_type": "markdown",
      "source": [
        "You can even create a query to filter the runs. Filter query strings are written with a simplified version of the SQL `WHERE` clause. \n",
        "\n",
        "To filter, you can use two classes of comparators:\n",
        "\n",
        "- Numeric comparators (metrics): =, !=, >, >=, <, and <=.\n",
        "- String comparators (params, tags, and attributes): = and !=.\n",
        "\n",
        "Learn more about [how to track experiments with MLflow](https://learn.microsoft.com/azure/machine-learning/how-to-track-experiments-mlflow)."
      ],
      "metadata": {}
    },
    {
      "cell_type": "code",
      "source": [
        "query = \"metrics.AUC > 0.8 and tags.model_type = 'LogisticRegression'\"\n",
        "mlflow.search_runs(exp.experiment_id, filter_string=query)"
      ],
      "outputs": [
        {
          "output_type": "execute_result",
          "execution_count": 61,
          "data": {
            "text/plain": "                     run_id                         experiment_id    status  \\\n0  nice_carnival_m7x6r51s1h  afdd4063-adbc-4cf6-afad-fdf51cd9dbb7  FINISHED   \n\n  artifact_uri                       start_time  \\\n0              2025-01-16 14:19:30.489000+00:00   \n\n                          end_time  metrics.Accuracy  metrics.AUC  \\\n0 2025-01-16 14:22:11.961000+00:00             0.774      0.84832   \n\n  params.Regularization rate     tags.mlflow.rootRunId     tags.model_type  \\\n0                       0.01  nice_carnival_m7x6r51s1h  LogisticRegression   \n\n     tags.mlflow.runName                 tags.mlflow.user  \n0  diabetes-train-mlflow  RODRIGO LACERDA CARVALHO SCHULZ  ",
            "text/html": "<div>\n<style scoped>\n    .dataframe tbody tr th:only-of-type {\n        vertical-align: middle;\n    }\n\n    .dataframe tbody tr th {\n        vertical-align: top;\n    }\n\n    .dataframe thead th {\n        text-align: right;\n    }\n</style>\n<table border=\"1\" class=\"dataframe\">\n  <thead>\n    <tr style=\"text-align: right;\">\n      <th></th>\n      <th>run_id</th>\n      <th>experiment_id</th>\n      <th>status</th>\n      <th>artifact_uri</th>\n      <th>start_time</th>\n      <th>end_time</th>\n      <th>metrics.Accuracy</th>\n      <th>metrics.AUC</th>\n      <th>params.Regularization rate</th>\n      <th>tags.mlflow.rootRunId</th>\n      <th>tags.model_type</th>\n      <th>tags.mlflow.runName</th>\n      <th>tags.mlflow.user</th>\n    </tr>\n  </thead>\n  <tbody>\n    <tr>\n      <th>0</th>\n      <td>nice_carnival_m7x6r51s1h</td>\n      <td>afdd4063-adbc-4cf6-afad-fdf51cd9dbb7</td>\n      <td>FINISHED</td>\n      <td></td>\n      <td>2025-01-16 14:19:30.489000+00:00</td>\n      <td>2025-01-16 14:22:11.961000+00:00</td>\n      <td>0.774</td>\n      <td>0.84832</td>\n      <td>0.01</td>\n      <td>nice_carnival_m7x6r51s1h</td>\n      <td>LogisticRegression</td>\n      <td>diabetes-train-mlflow</td>\n      <td>RODRIGO LACERDA CARVALHO SCHULZ</td>\n    </tr>\n  </tbody>\n</table>\n</div>"
          },
          "metadata": {}
        }
      ],
      "execution_count": 61,
      "metadata": {
        "vscode": {
          "languageId": "python"
        },
        "gather": {
          "logged": 1737046408779
        }
      }
    }
  ],
  "metadata": {
    "kernel_info": {
      "name": "python38-azureml"
    },
    "kernelspec": {
      "name": "python38-azureml",
      "language": "python",
      "display_name": "Python 3.8 - AzureML"
    },
    "microsoft": {
      "host": {
        "AzureML": {
          "notebookHasBeenCompleted": true
        }
      }
    },
    "nteract": {
      "version": "nteract-front-end@1.0.0"
    },
    "vscode": {
      "interpreter": {
        "hash": "f2b2cd046deda8eabef1e765a11d0ec9aa9bd1d31d56ce79c815a38c323e14ec"
      }
    },
    "language_info": {
      "name": "python",
      "version": "3.10.11",
      "mimetype": "text/x-python",
      "codemirror_mode": {
        "name": "ipython",
        "version": 3
      },
      "pygments_lexer": "ipython3",
      "nbconvert_exporter": "python",
      "file_extension": ".py"
    }
  },
  "nbformat": 4,
  "nbformat_minor": 2
}